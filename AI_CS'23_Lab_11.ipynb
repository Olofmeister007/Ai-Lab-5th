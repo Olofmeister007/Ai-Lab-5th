{
  "cells": [
    {
      "cell_type": "markdown",
      "metadata": {
        "id": "view-in-github",
        "colab_type": "text"
      },
      "source": [
        "<a href=\"https://colab.research.google.com/github/Olofmeister007/Ai-Lab-5th/blob/main/AI_CS'23_Lab_11.ipynb\" target=\"_parent\"><img src=\"https://colab.research.google.com/assets/colab-badge.svg\" alt=\"Open In Colab\"/></a>"
      ]
    },
    {
      "cell_type": "code",
      "execution_count": null,
      "metadata": {
        "id": "HTXZrSPiYi7s",
        "colab": {
          "base_uri": "https://localhost:8080/"
        },
        "outputId": "f92b6015-9cff-4af4-d40a-4e557fa118d7"
      },
      "outputs": [
        {
          "output_type": "stream",
          "name": "stdout",
          "text": [
            "Downloading data from https://www.cs.toronto.edu/~kriz/cifar-10-python.tar.gz\n",
            "170498071/170498071 [==============================] - 12s 0us/step\n"
          ]
        }
      ],
      "source": [
        "import numpy as np\n",
        "import tensorflow as tf\n",
        "\n",
        "#Loading the MNIST dataset\n",
        "cifar10 = tf.keras.datasets.cifar10 #image dataset with 10 diffferent type of images.\n",
        "(x_train, y_train), (x_test, y_test) = cifar10.load_data() #data is split into test and train data.\n",
        "\n",
        "#Normalizing the data\n",
        "x_train = tf.keras.utils.normalize(x_train, axis = 1) #data is normalized so that value between 0 and 1.\n",
        "x_test = tf.keras.utils.normalize(x_test, axis = 1)\n"
      ]
    },
    {
      "cell_type": "code",
      "execution_count": null,
      "metadata": {
        "id": "5VSnpBSeYnwV"
      },
      "outputs": [],
      "source": [
        "\n",
        "#Creating the model\n",
        "model = tf.keras.models.Sequential()\n",
        " #we use a sequential model which means our neural layer are in sequence.\n",
        "#Adding the first layer\n",
        "model.add(tf.keras.layers.Flatten())\n",
        " #the vector is flattened so that it has only one column\n",
        "#Adding hidden layers\n",
        "model.add(tf.keras.layers.Dense(128,activation=tf.nn.relu))\n",
        " #Hidden Layer is added and rely activation function is used.\n",
        "#relu bounds the value between 0 and max. 128 neurons are used in the hidden layers.\n",
        "model.add(tf.keras.layers.Dense(128,activation=tf.nn.relu))\n",
        "#Adding the output layer\n",
        "#for output layer softmax is used which is used for multiclass classifcation\n",
        "model.add(tf.keras.layers.Dense(10,activation=tf.nn.softmax))\n"
      ]
    },
    {
      "cell_type": "code",
      "execution_count": null,
      "metadata": {
        "id": "LzEka4WVqlsm"
      },
      "outputs": [],
      "source": []
    },
    {
      "cell_type": "code",
      "execution_count": null,
      "metadata": {
        "colab": {
          "base_uri": "https://localhost:8080/"
        },
        "id": "DBaJY066Yx2N",
        "outputId": "24a3550a-7c0b-44a1-a72f-c8aa8fa365ed"
      },
      "outputs": [
        {
          "output_type": "stream",
          "name": "stdout",
          "text": [
            "Epoch 1/80\n",
            "1563/1563 [==============================] - 11s 7ms/step - loss: 2.0325 - accuracy: 0.2604\n",
            "Epoch 2/80\n",
            "1563/1563 [==============================] - 11s 7ms/step - loss: 1.8680 - accuracy: 0.3343\n",
            "Epoch 3/80\n",
            "1563/1563 [==============================] - 11s 7ms/step - loss: 1.7931 - accuracy: 0.3654\n",
            "Epoch 4/80\n",
            "1563/1563 [==============================] - 11s 7ms/step - loss: 1.7455 - accuracy: 0.3794\n",
            "Epoch 5/80\n",
            "1563/1563 [==============================] - 11s 7ms/step - loss: 1.7188 - accuracy: 0.3880\n",
            "Epoch 6/80\n",
            "1563/1563 [==============================] - 11s 7ms/step - loss: 1.6867 - accuracy: 0.4018\n",
            "Epoch 7/80\n",
            "1563/1563 [==============================] - 10s 6ms/step - loss: 1.6649 - accuracy: 0.4092\n",
            "Epoch 8/80\n",
            "1563/1563 [==============================] - 11s 7ms/step - loss: 1.6413 - accuracy: 0.4177\n",
            "Epoch 9/80\n",
            "1563/1563 [==============================] - 12s 8ms/step - loss: 1.6229 - accuracy: 0.4240\n",
            "Epoch 10/80\n",
            "1563/1563 [==============================] - 11s 7ms/step - loss: 1.6049 - accuracy: 0.4328\n",
            "Epoch 11/80\n",
            "1563/1563 [==============================] - 11s 7ms/step - loss: 1.5934 - accuracy: 0.4353\n",
            "Epoch 12/80\n",
            "1563/1563 [==============================] - 11s 7ms/step - loss: 1.5760 - accuracy: 0.4416\n",
            "Epoch 13/80\n",
            "1563/1563 [==============================] - 10s 7ms/step - loss: 1.5634 - accuracy: 0.4457\n",
            "Epoch 14/80\n",
            "1563/1563 [==============================] - 10s 7ms/step - loss: 1.5545 - accuracy: 0.4485\n",
            "Epoch 15/80\n",
            "1563/1563 [==============================] - 11s 7ms/step - loss: 1.5480 - accuracy: 0.4502\n",
            "Epoch 16/80\n",
            "1563/1563 [==============================] - 11s 7ms/step - loss: 1.5342 - accuracy: 0.4548\n",
            "Epoch 17/80\n",
            "1563/1563 [==============================] - 11s 7ms/step - loss: 1.5263 - accuracy: 0.4595\n",
            "Epoch 18/80\n",
            "1563/1563 [==============================] - 11s 7ms/step - loss: 1.5120 - accuracy: 0.4648\n",
            "Epoch 19/80\n",
            "1563/1563 [==============================] - 11s 7ms/step - loss: 1.5114 - accuracy: 0.4656\n",
            "Epoch 20/80\n",
            "1563/1563 [==============================] - 10s 6ms/step - loss: 1.5005 - accuracy: 0.4673\n",
            "Epoch 21/80\n",
            "1563/1563 [==============================] - 11s 7ms/step - loss: 1.4921 - accuracy: 0.4700\n",
            "Epoch 22/80\n",
            "1563/1563 [==============================] - 11s 7ms/step - loss: 1.4897 - accuracy: 0.4728\n",
            "Epoch 23/80\n",
            "1563/1563 [==============================] - 11s 7ms/step - loss: 1.4812 - accuracy: 0.4761\n",
            "Epoch 24/80\n",
            "1563/1563 [==============================] - 11s 7ms/step - loss: 1.4749 - accuracy: 0.4780\n",
            "Epoch 25/80\n",
            "1563/1563 [==============================] - 11s 7ms/step - loss: 1.4685 - accuracy: 0.4805\n",
            "Epoch 26/80\n",
            "1563/1563 [==============================] - 11s 7ms/step - loss: 1.4645 - accuracy: 0.4804\n",
            "Epoch 27/80\n",
            "1563/1563 [==============================] - 11s 7ms/step - loss: 1.4611 - accuracy: 0.4830\n",
            "Epoch 28/80\n",
            "1563/1563 [==============================] - 10s 7ms/step - loss: 1.4557 - accuracy: 0.4838\n",
            "Epoch 29/80\n",
            "1563/1563 [==============================] - 11s 7ms/step - loss: 1.4458 - accuracy: 0.4870\n",
            "Epoch 30/80\n",
            "1563/1563 [==============================] - 11s 7ms/step - loss: 1.4454 - accuracy: 0.4874\n",
            "Epoch 31/80\n",
            "1563/1563 [==============================] - 11s 7ms/step - loss: 1.4402 - accuracy: 0.4899\n",
            "Epoch 32/80\n",
            "1563/1563 [==============================] - 11s 7ms/step - loss: 1.4352 - accuracy: 0.4900\n",
            "Epoch 33/80\n",
            "1563/1563 [==============================] - 11s 7ms/step - loss: 1.4273 - accuracy: 0.4950\n",
            "Epoch 34/80\n",
            "1563/1563 [==============================] - 11s 7ms/step - loss: 1.4222 - accuracy: 0.4975\n",
            "Epoch 35/80\n",
            "1563/1563 [==============================] - 10s 6ms/step - loss: 1.4246 - accuracy: 0.4946\n",
            "Epoch 36/80\n",
            "1563/1563 [==============================] - 11s 7ms/step - loss: 1.4167 - accuracy: 0.4982\n",
            "Epoch 37/80\n",
            "1563/1563 [==============================] - 11s 7ms/step - loss: 1.4153 - accuracy: 0.4978\n",
            "Epoch 38/80\n",
            "1563/1563 [==============================] - 11s 7ms/step - loss: 1.4111 - accuracy: 0.4990\n",
            "Epoch 39/80\n",
            "1563/1563 [==============================] - 11s 7ms/step - loss: 1.4068 - accuracy: 0.5020\n",
            "Epoch 40/80\n",
            "1563/1563 [==============================] - 11s 7ms/step - loss: 1.4075 - accuracy: 0.4993\n",
            "Epoch 41/80\n",
            "1563/1563 [==============================] - 10s 7ms/step - loss: 1.4000 - accuracy: 0.5062\n",
            "Epoch 42/80\n",
            "1563/1563 [==============================] - 10s 7ms/step - loss: 1.3947 - accuracy: 0.5057\n",
            "Epoch 43/80\n",
            "1563/1563 [==============================] - 11s 7ms/step - loss: 1.3930 - accuracy: 0.5054\n",
            "Epoch 44/80\n",
            "1563/1563 [==============================] - 11s 7ms/step - loss: 1.3900 - accuracy: 0.5066\n",
            "Epoch 45/80\n",
            "1563/1563 [==============================] - 11s 7ms/step - loss: 1.3868 - accuracy: 0.5087\n",
            "Epoch 46/80\n",
            "1563/1563 [==============================] - 10s 7ms/step - loss: 1.3778 - accuracy: 0.5118\n",
            "Epoch 47/80\n",
            "1563/1563 [==============================] - 10s 6ms/step - loss: 1.3796 - accuracy: 0.5105\n",
            "Epoch 48/80\n",
            "1563/1563 [==============================] - 13s 8ms/step - loss: 1.3772 - accuracy: 0.5105\n",
            "Epoch 49/80\n",
            "1563/1563 [==============================] - 11s 7ms/step - loss: 1.3761 - accuracy: 0.5123\n",
            "Epoch 50/80\n",
            "1563/1563 [==============================] - 11s 7ms/step - loss: 1.3713 - accuracy: 0.5139\n",
            "Epoch 51/80\n",
            "1563/1563 [==============================] - 11s 7ms/step - loss: 1.3713 - accuracy: 0.5125\n",
            "Epoch 52/80\n",
            "1563/1563 [==============================] - 11s 7ms/step - loss: 1.3634 - accuracy: 0.5167\n",
            "Epoch 53/80\n",
            "1563/1563 [==============================] - 11s 7ms/step - loss: 1.3656 - accuracy: 0.5151\n",
            "Epoch 54/80\n",
            "1563/1563 [==============================] - 11s 7ms/step - loss: 1.3555 - accuracy: 0.5198\n",
            "Epoch 55/80\n",
            "1563/1563 [==============================] - 10s 6ms/step - loss: 1.3577 - accuracy: 0.5188\n",
            "Epoch 56/80\n",
            "1563/1563 [==============================] - 11s 7ms/step - loss: 1.3563 - accuracy: 0.5189\n",
            "Epoch 57/80\n",
            "1563/1563 [==============================] - 11s 7ms/step - loss: 1.3514 - accuracy: 0.5199\n",
            "Epoch 58/80\n",
            "1563/1563 [==============================] - 11s 7ms/step - loss: 1.3493 - accuracy: 0.5221\n",
            "Epoch 59/80\n",
            "1563/1563 [==============================] - 11s 7ms/step - loss: 1.3489 - accuracy: 0.5200\n",
            "Epoch 60/80\n",
            "1563/1563 [==============================] - 11s 7ms/step - loss: 1.3449 - accuracy: 0.5227\n",
            "Epoch 61/80\n",
            "1563/1563 [==============================] - 11s 7ms/step - loss: 1.3428 - accuracy: 0.5238\n",
            "Epoch 62/80\n",
            "1563/1563 [==============================] - 10s 6ms/step - loss: 1.3436 - accuracy: 0.5233\n",
            "Epoch 63/80\n",
            "1563/1563 [==============================] - 11s 7ms/step - loss: 1.3384 - accuracy: 0.5250\n",
            "Epoch 64/80\n",
            "1563/1563 [==============================] - 11s 7ms/step - loss: 1.3365 - accuracy: 0.5266\n",
            "Epoch 65/80\n",
            "1563/1563 [==============================] - 11s 7ms/step - loss: 1.3370 - accuracy: 0.5277\n",
            "Epoch 66/80\n",
            "1563/1563 [==============================] - 11s 7ms/step - loss: 1.3324 - accuracy: 0.5267\n",
            "Epoch 67/80\n",
            "1563/1563 [==============================] - 11s 7ms/step - loss: 1.3348 - accuracy: 0.5257\n",
            "Epoch 68/80\n",
            "1563/1563 [==============================] - 10s 6ms/step - loss: 1.3325 - accuracy: 0.5262\n",
            "Epoch 69/80\n",
            "1563/1563 [==============================] - 11s 7ms/step - loss: 1.3262 - accuracy: 0.5305\n",
            "Epoch 70/80\n",
            "1563/1563 [==============================] - 11s 7ms/step - loss: 1.3296 - accuracy: 0.5273\n",
            "Epoch 71/80\n",
            "1563/1563 [==============================] - 11s 7ms/step - loss: 1.3270 - accuracy: 0.5290\n",
            "Epoch 72/80\n",
            "1563/1563 [==============================] - 11s 7ms/step - loss: 1.3218 - accuracy: 0.5313\n",
            "Epoch 73/80\n",
            "1563/1563 [==============================] - 10s 7ms/step - loss: 1.3226 - accuracy: 0.5296\n",
            "Epoch 74/80\n",
            "1563/1563 [==============================] - 10s 6ms/step - loss: 1.3127 - accuracy: 0.5322\n",
            "Epoch 75/80\n",
            "1563/1563 [==============================] - 11s 7ms/step - loss: 1.3160 - accuracy: 0.5309\n",
            "Epoch 76/80\n",
            "1563/1563 [==============================] - 11s 7ms/step - loss: 1.3149 - accuracy: 0.5327\n",
            "Epoch 77/80\n",
            "1563/1563 [==============================] - 11s 7ms/step - loss: 1.3144 - accuracy: 0.5329\n",
            "Epoch 78/80\n",
            "1563/1563 [==============================] - 11s 7ms/step - loss: 1.3108 - accuracy: 0.5345\n",
            "Epoch 79/80\n",
            "1563/1563 [==============================] - 11s 7ms/step - loss: 1.3093 - accuracy: 0.5362\n",
            "Epoch 80/80\n",
            "1563/1563 [==============================] - 11s 7ms/step - loss: 1.3060 - accuracy: 0.5348\n",
            "Model: \"sequential\"\n",
            "_________________________________________________________________\n",
            " Layer (type)                Output Shape              Param #   \n",
            "=================================================================\n",
            " flatten (Flatten)           (None, 3072)              0         \n",
            "                                                                 \n",
            " dense (Dense)               (None, 128)               393344    \n",
            "                                                                 \n",
            " dense_1 (Dense)             (None, 128)               16512     \n",
            "                                                                 \n",
            " dense_2 (Dense)             (None, 10)                1290      \n",
            "                                                                 \n",
            "=================================================================\n",
            "Total params: 411146 (1.57 MB)\n",
            "Trainable params: 411146 (1.57 MB)\n",
            "Non-trainable params: 0 (0.00 Byte)\n",
            "_________________________________________________________________\n"
          ]
        }
      ],
      "source": [
        "#Compiling the model and training it\n",
        "model.compile(optimizer='adam', #we use an adam optimized which is a better version of gradient descent.\n",
        "loss='sparse_categorical_crossentropy', #this loss funciton is genreally used for classification\n",
        "metrics=['accuracy']) #we use accurace as a measure of our models correctness.\n",
        "\n",
        "\n",
        "\n",
        "model.fit(x_train,y_train, epochs=80) #model is trained using this line\n",
        "\n",
        "model.summary() #provides a summary of the parameters\n"
      ]
    },
    {
      "cell_type": "code",
      "execution_count": null,
      "metadata": {
        "colab": {
          "base_uri": "https://localhost:8080/"
        },
        "id": "9uYLRh6jYzcq",
        "outputId": "a781cf98-1373-486a-b883-6b54df16c08e"
      },
      "outputs": [
        {
          "output_type": "stream",
          "name": "stdout",
          "text": [
            "313/313 [==============================] - 1s 3ms/step - loss: 1.6972 - accuracy: 0.4311\n",
            "0.4311000108718872\n"
          ]
        }
      ],
      "source": [
        "#Evaluating model Accuracy\n",
        "val_loss, val_acc = model.evaluate(x_test, y_test) #model evaluation is done using this to see how well it is performing.\n",
        "print(val_acc)\n"
      ]
    },
    {
      "cell_type": "code",
      "execution_count": null,
      "metadata": {
        "colab": {
          "base_uri": "https://localhost:8080/",
          "height": 1000
        },
        "id": "QvNNUaJ8Y1AI",
        "outputId": "ac99c350-2c70-4f62-c1aa-58206c26fee4"
      },
      "outputs": [
        {
          "output_type": "display_data",
          "data": {
            "text/plain": [
              "<Figure size 640x480 with 1 Axes>"
            ],
            "image/png": "[encoded data removed]"
          },
          "metadata": {}
        },
        {
          "output_type": "display_data",
          "data": {
            "text/plain": [
              "<Figure size 640x480 with 1 Axes>"
            ],
            "image/png": "[encoded data removed]"
          },
          "metadata": {}
        },
        {
          "output_type": "display_data",
          "data": {
            "text/plain": [
              "<Figure size 640x480 with 1 Axes>"
            ],
            "image/png": "[encoded data removed]"
          },
          "metadata": {}
        },
        {
          "output_type": "stream",
          "name": "stdout",
          "text": [
            "313/313 [==============================] - 1s 3ms/step\n",
            "Predicted output: 4 3 3\n"
          ]
        }
      ],
      "source": [
        "import matplotlib.pyplot as plt #we plot the pictures\n",
        "\n",
        "# show the first 3 images from the MNIST dataset\n",
        "jump = 40. #jumping to images in the dataset\n",
        "for i in range(3):\n",
        "  plt.imshow(x_test[i+jump], cmap=plt.cm.binary)\n",
        "  plt.show()\n",
        "\n",
        "# predict the first 3 images\n",
        "predictions = model.predict([x_test]) #once the model is trained this is used to predict.\n",
        "\n",
        "\n",
        "# print the predicted output\n",
        "print(\"Predicted output:\", np.argmax(predictions[jump]), np.argmax(predictions[jump+1]),\n",
        "np.argmax(predictions[jump+2]))"
      ]
    }
  ],
  "metadata": {
    "colab": {
      "provenance": [],
      "include_colab_link": true
    },
    "kernelspec": {
      "display_name": "Python 3",
      "name": "python3"
    },
    "language_info": {
      "name": "python"
    }
  },
  "nbformat": 4,
  "nbformat_minor": 0
}