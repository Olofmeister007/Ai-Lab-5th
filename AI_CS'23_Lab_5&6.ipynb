{
  "nbformat": 4,
  "nbformat_minor": 0,
  "metadata": {
    "colab": {
      "provenance": [],
      "include_colab_link": true
    },
    "kernelspec": {
      "name": "python3",
      "display_name": "Python 3"
    },
    "language_info": {
      "name": "python"
    }
  },
  "cells": [
    {
      "cell_type": "markdown",
      "metadata": {
        "id": "view-in-github",
        "colab_type": "text"
      },
      "source": [
        "<a href=\"https://colab.research.google.com/github/Olofmeister007/Ai-Lab-5th/blob/main/AI_CS'23_Lab_5%266.ipynb\" target=\"_parent\"><img src=\"https://colab.research.google.com/assets/colab-badge.svg\" alt=\"Open In Colab\"/></a>"
      ]
    },
    {
      "cell_type": "code",
      "execution_count": null,
      "metadata": {
        "id": "6JRhF_27-B7L"
      },
      "outputs": [],
      "source": [
        "from queue import Queue, LifoQueue, PriorityQueue\n",
        "\n",
        "\n",
        "class UninformedSearch:\n",
        "    def __init__(self, graph):\n",
        "        self.graph = graph\n",
        "\n",
        "    def bfs(self, start, goal):\n",
        "        visited = set()\n",
        "        queue = Queue()\n",
        "        queue.put([start])  # Start with a path containing only the start node\n",
        "\n",
        "        while not queue.empty():\n",
        "            path = queue.get()  # Get the first path from the queue\n",
        "            node = path[-1]  # Get the last node in the path (current node)\n",
        "\n",
        "            if node == goal:\n",
        "                return path  # If the goal node is reached, return the path\n",
        "\n",
        "            if node not in visited:\n",
        "                for neighbor in self.graph[node]:\n",
        "                    new_path = list(path)  # Create a new path by copying the existing path\n",
        "                    new_path.append(neighbor)  # Add the neighbor to the new path\n",
        "                    queue.put(new_path)  # Put the new path in the queue for exploration\n",
        "\n",
        "                visited.add(node)  # Mark the node as visited\n",
        "\n",
        "    def dfs(self, start, goal):\n",
        "      visited = set()\n",
        "      stack = []\n",
        "      stack.append(start)\n",
        "\n",
        "      while not len(stack) == 0:\n",
        "        path = stack.pop()\n",
        "        node = path[-1]\n",
        "\n",
        "        if node == goal:\n",
        "          return path\n",
        "\n",
        "        if node not in visited:\n",
        "          for neighbour in self.graph[node]:\n",
        "            new_path = list(path)\n",
        "            new_path.append(neighbour)\n",
        "            stack.append(new_path)\n",
        "\n",
        "          visited.add(node)\n",
        "\n",
        "\n",
        "\n",
        "      ## Write the code for Depth-first Search here\n",
        "\n",
        "    def ucs(self, start, goal):\n",
        "        visited = set()\n",
        "        priority_queue = PriorityQueue()\n",
        "        priority_queue.put((0, [start]))  # Start with a path containing only the start node and cost 0\n",
        "\n",
        "        while not priority_queue.empty():\n",
        "            cost, path = priority_queue.get()  # Get the path with the lowest cost from the priority queue\n",
        "            node = path[-1]  # Get the last node in the path\n",
        "\n",
        "            if node == goal:\n",
        "                return path  # If the goal node is reached, return the path\n",
        "\n",
        "            if node not in visited:\n",
        "                for neighbor, edge_cost in self.graph[node].items():\n",
        "                    new_cost = cost + edge_cost  # Calculate the new cost\n",
        "                    new_path = list(path)  # Create a new path by copying the existing path\n",
        "                    new_path.append(neighbor)  # Add the neighbor to the new path\n",
        "                    priority_queue.put((new_cost, new_path))  # Put the new path in the priority queue for exploration\n",
        "\n",
        "                visited.add(node)  # Mark the node as visited\n"
      ]
    },
    {
      "cell_type": "code",
      "source": [
        "def main():\n",
        "  #this is an example tree/graph, you need to write code for the tree/graph assigned during the lab\n",
        "    graph = {\n",
        "        'A': {'B': 3, 'C': 2},\n",
        "        'B': {'D': 4, 'E': 1},\n",
        "        'C': {'F': 6},\n",
        "        'D': {'G': 5},\n",
        "        'E': {'G': 1},\n",
        "        'F': {},\n",
        "        'G': {}\n",
        "    }\n",
        "\n",
        "    search = UninformedSearch(graph)\n",
        "\n",
        "    initial_node = 'A'\n",
        "    goal_node = 'G'\n",
        "\n",
        "    print(\"Breadth-First Search:\")\n",
        "    bfs_path = search.bfs(initial_node, goal_node)\n",
        "    print(bfs_path)\n",
        "\n",
        "    print(\"Depth-First Search:\")\n",
        "    dfs_path = search.dfs(initial_node, goal_node)\n",
        "    print(dfs_path)\n",
        "\n",
        "    print(\"Uniform Cost Search:\")\n",
        "    ucs_path = search.ucs(initial_node, goal_node)\n",
        "    print(ucs_path)\n",
        "\n",
        "\n",
        "if __name__ == \"__main__\":\n",
        "    main()\n"
      ],
      "metadata": {
        "colab": {
          "base_uri": "https://localhost:8080/"
        },
        "id": "I0HUPD5h-IRs",
        "outputId": "5de352d4-1de1-4567-e864-acadf03cfeba"
      },
      "execution_count": null,
      "outputs": [
        {
          "output_type": "stream",
          "name": "stdout",
          "text": [
            "Breadth-First Search:\n",
            "['A', 'B', 'D', 'G']\n",
            "Depth-First Search:\n",
            "['A', 'B', 'E', 'G']\n",
            "Uniform Cost Search:\n",
            "['A', 'B', 'E', 'G']\n"
          ]
        }
      ]
    }
  ]
}