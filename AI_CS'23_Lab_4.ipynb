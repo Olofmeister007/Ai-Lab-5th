{
  "nbformat": 4,
  "nbformat_minor": 0,
  "metadata": {
    "colab": {
      "provenance": [],
      "include_colab_link": true
    },
    "kernelspec": {
      "name": "python3",
      "display_name": "Python 3"
    },
    "language_info": {
      "name": "python"
    }
  },
  "cells": [
    {
      "cell_type": "markdown",
      "metadata": {
        "id": "view-in-github",
        "colab_type": "text"
      },
      "source": [
        "<a href=\"https://colab.research.google.com/github/Olofmeister007/Ai-Lab-5th/blob/main/AI_CS'23_Lab_4.ipynb\" target=\"_parent\"><img src=\"https://colab.research.google.com/assets/colab-badge.svg\" alt=\"Open In Colab\"/></a>"
      ]
    },
    {
      "cell_type": "code",
      "source": [
        "import random #importing random method to generate random numbers"
      ],
      "metadata": {
        "id": "WMGP43Bdbfvm"
      },
      "execution_count": null,
      "outputs": []
    },
    {
      "cell_type": "code",
      "source": [
        "class SimpleReflexAgent:\n",
        "    def __init__(self, grid_width, grid_height): #Use to create a constructor\n",
        "        self.grid_width = grid_width #intialzing width\n",
        "        self.grid_height = grid_height #intialzing heigth\n",
        "        # self.location = (0, 0)\n",
        "        # write code to initialize the agent at a random location\n",
        "        height = random.randint(0, grid_height -1) #choosing a random height in range of grid_height\n",
        "        width = random.randint(0, grid_width - 1) #choosing a random width in range of grid_height\n",
        "        self.location = (height, width) #setting the height and width as the location\n",
        "        self.move_right = True #initially move right is true so agent can move to the right\n",
        "\n",
        "    def perceive(self, location_status): #shows current percept of agent\n",
        "        x, y = self.location #store height and width from location into x, y\n",
        "        if location_status[x][y] == \"dirty\": #if cell at [x][y] is dirty return dirty\n",
        "            return \"dirty\"\n",
        "        else:\n",
        "            return \"clean\" #if cell at [x][y] is clean return clean\n",
        "\n",
        "    def decide(self, percept): #decide what to do based on current position\n",
        "        x, y = self.location #store height and width from location into x, y\n",
        "        if percept == \"dirty\": #if current percept is dirty then suck first\n",
        "            return \"suck\"\n",
        "        elif x == self.grid_width - 1 and y == self.grid_height - 1: #if we reached last cell in last row and last column we are done\n",
        "            return \"done\"\n",
        "        elif self.move_right and y < self.grid_height - 1: #if we are moving to right and have not reached last column keep moving to the right\n",
        "            return \"move_right\"\n",
        "        elif self.move_right and y == self.grid_height - 1: #if we reach last column move down and set move right to false\n",
        "            self.move_right = False\n",
        "            return \"move_down\"\n",
        "        elif not self.move_right and y > 0: #once we have moved down we need to move left now\n",
        "            return \"move_left\"\n",
        "        elif not self.move_right and y == 0: #once we have reached first column we can move down and set move right to true\n",
        "            self.move_right = True\n",
        "            return \"move_down\"\n",
        "        # elif x == self.grid_width - 1 and y == 0: # if we are in last row and first column we can also move up\n",
        "        #     self.move_right = True\n",
        "        #     return \"move_up\"\n",
        "\n",
        "        #write code for condition where the robot might 'move up'\n",
        "\n",
        "    def act(self, action): #define what action to take based on decision from above function\n",
        "        x, y = self.location\n",
        "        if action == \"suck\": #if decision is suck then just clean the cell\n",
        "            print(f\"Location ({x}, {y}) is cleaned.\")\n",
        "        elif action == \"move_right\": #if decision is move right you can just move right by adding 1 in y\n",
        "            print(\"Moving right.\")\n",
        "            self.location = (x, y + 1)\n",
        "        elif action == \"move_down\": #if decision is move down you can just move down by adding 1 in x\n",
        "            print(\"Moving down.\")\n",
        "            self.location = (x + 1, y)\n",
        "        elif action == \"move_left\": #if decision is move left you can just move left by subtracting 1 from y\n",
        "            print(\"Moving left.\")\n",
        "            self.location = (x, y - 1) #if decision is move left you can just move up by subtracting 1 from x\n",
        "        elif action == \"move_up\":\n",
        "            print(\"Moving Up.\")\n",
        "            self.location = (x-1, y)\n",
        "\n",
        "        #write code for 'move up' action\n",
        "\n"
      ],
      "metadata": {
        "id": "4w7HJ3CCZhXa"
      },
      "execution_count": 1,
      "outputs": []
    },
    {
      "cell_type": "code",
      "source": [
        "def print_grid(grid): #print the whole grid row by row\n",
        "    for row in grid: #for loop for iterating through each row\n",
        "        print(\" \".join(row)) #print the individual row\n"
      ],
      "metadata": {
        "id": "mNPmfskIZta7"
      },
      "execution_count": 2,
      "outputs": []
    },
    {
      "cell_type": "code",
      "source": [
        "def main():\n",
        "    grid_width = int(input(\"Enter the width of the grid: \")) #taking grid width from user\n",
        "    grid_height = int(input(\"Enter the height of the grid: \"))  #taking grid height from user\n",
        "\n",
        "    environment = [[\"clean\" for _ in range(grid_height)] for _ in range(grid_width)] #iterating through the whole grid and entering clean in all the cells\n",
        "    # environment[1][2] = \"dirty\"\n",
        "    # environment[2][1] = \"dirty\"\n",
        "    for i in range(2):\n",
        "       width = random.randint(0,grid_width-1) #generating random number for width\n",
        "       height = random.randint(0,grid_height-1) #generating random number for height\n",
        "       environment[height][width] = \"dirty\" #putting dirty in the randomly generated height and width cell inside grid\n",
        "\n",
        "\n",
        "    # write code to mark 2 cell as 'dirty' using random function\n",
        "\n",
        "    agent = SimpleReflexAgent(grid_width, grid_height) #creating an object from the SimpleReflexAgent class\n",
        "\n",
        "    while True: #infinte loop\n",
        "        current_percept = agent.perceive(environment) #set current percept from the agent object\n",
        "        current_action = agent.decide(current_percept) #set current action from the agent object\n",
        "\n",
        "        print(f\"Current location: {agent.location} | Percept: {current_percept} | Action: {current_action}\") #at each iteration print the location , percept and action\n",
        "\n",
        "        if current_action == \"done\": #if the grid is completely cleaned set current action to done\n",
        "            print(\"Cleaning process complete.\") #print cleanign process complete\n",
        "            break #break out of the infinite loop\n",
        "\n",
        "        agent.act(current_action) #make the agent act according to the current action\n",
        "        x, y = agent.location #set x and y varialbes according to the current agent locations\n",
        "        environment[x][y] = \"clean\" #set the cell at grid[x][y] as clean\n",
        "\n",
        "        print(\"Updated environment:\") #print updated environment\n",
        "        print_grid(environment) #print the updated grid\n",
        "\n",
        "if __name__ == \"__main__\":\n",
        "    main() #call the main function\n"
      ],
      "metadata": {
        "id": "tnbxq_r1Zxqy"
      },
      "execution_count": null,
      "outputs": []
    }
  ]
}